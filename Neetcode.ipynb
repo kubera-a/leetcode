{
 "cells": [
  {
   "cell_type": "markdown",
   "id": "05b27ccc-645c-4daf-ac6e-93f26424721f",
   "metadata": {},
   "source": [
    "# Neetcode notebook\n",
    "\n",
    "Over here, I try to consolidate all my learnings about neet/leetcode and DSA and my attempts at doing leet/neetcode including my thinking and mistakes in it. Whenever I think I have a macro breakthrough in my thinking process, I'll write it down at the top.\n",
    "\n",
    "Code in this notebook is organized into the topics that neetcode provides.\n",
    "\n",
    "My process version 1:\n",
    "1. Just solve it, as long as you can solve it it's good.\n",
    "\n",
    "My process version 2:\n",
    "1. Just solve it\n",
    "2. Review the solutions\n",
    "3. Why is your solution wrong\n",
    "4. Implement the other solutions\n",
    "5. Read the book about the problem again.\n",
    "6. Identify why you were unable to think of the other solutions"
   ]
  },
  {
   "cell_type": "code",
   "execution_count": 5,
   "id": "aa81587b-7fc7-4b47-9595-00d14d8c03fe",
   "metadata": {},
   "outputs": [],
   "source": [
    "from typing import List"
   ]
  },
  {
   "cell_type": "markdown",
   "id": "dd64fb98-b5be-47ec-8f9f-f5b74f2f90db",
   "metadata": {},
   "source": [
    "# Arrays and Hashing"
   ]
  },
  {
   "cell_type": "markdown",
   "id": "c7bcd88d-30ee-4fcd-b47f-dd576745860e",
   "metadata": {
    "tags": []
   },
   "source": [
    "## Contains Duplicate\n",
    "\n",
    "First solution:\n",
    "1. Iterate through the list and append to dictionary O(n)\n",
    "2. If exists in dictionary, break and return True O(n)\n",
    "3. If not then append to dict O(n)\n",
    "3. Else return false\n",
    "\n",
    "Total complexity O(2n)\n",
    "\n",
    "Second Solution:\n",
    "1. Sort the entire list (What's the time complexity?)\n",
    "2. Iterate through the list O(n), comparing to the neighbour O(n)"
   ]
  },
  {
   "cell_type": "markdown",
   "id": "bca417d7-08fc-4d35-9576-95c69d481aa3",
   "metadata": {},
   "source": [
    "## First solution"
   ]
  },
  {
   "cell_type": "code",
   "execution_count": 6,
   "id": "47ca73f6-7f8f-474e-a280-7003b3568414",
   "metadata": {},
   "outputs": [],
   "source": [
    "class Solution:\n",
    "    def containsDuplicate(self, nums: List[int]) -> bool:\n",
    "        count_dict = {}\n",
    "        for i in nums:\n",
    "            if i not in count_dict.keys():\n",
    "                count_dict[i] = 1\n",
    "            else:\n",
    "                return True\n",
    "        return False\n",
    "        "
   ]
  },
  {
   "cell_type": "markdown",
   "id": "1c168bbb-d245-4604-9805-048c42dcd0f9",
   "metadata": {},
   "source": [
    "## Review"
   ]
  },
  {
   "cell_type": "markdown",
   "id": "544e708d-4583-4324-b870-d691fd980a23",
   "metadata": {},
   "source": [
    "## Second solution"
   ]
  },
  {
   "cell_type": "code",
   "execution_count": 7,
   "id": "b9ca2096-21b3-4098-a4f1-bd2006f3ab20",
   "metadata": {},
   "outputs": [],
   "source": [
    "class Solution:\n",
    "    def containsDuplicate(self, nums: List[int]) -> bool:\n",
    "        nums.sort()\n",
    "        for i in range(len(nums)-1):\n",
    "            if nums[i] == nums[i+1]:\n",
    "                return True\n",
    "        return False\n",
    "        "
   ]
  },
  {
   "cell_type": "markdown",
   "id": "246ee667-6bd2-4188-90b0-9cce3557b529",
   "metadata": {},
   "source": [
    "## Review"
   ]
  },
  {
   "cell_type": "markdown",
   "id": "89dc260d-762e-4f1b-9989-3a2b93f7b588",
   "metadata": {},
   "source": [
    "## Third solution\n",
    "\n",
    "1. Check is list is empty (1)\n",
    "2. Pop list (1)\n",
    "3. Check whether in dictionary (1)\n",
    "4. If no, append, if yes return. (1)\n",
    "\n",
    "O(4n)"
   ]
  },
  {
   "cell_type": "code",
   "execution_count": 8,
   "id": "dd58c86a-4531-485a-bea7-8e7657c6c41a",
   "metadata": {},
   "outputs": [],
   "source": [
    "class Solution:\n",
    "    def containsDuplicate(self, nums: List[int]) -> bool:\n",
    "        count_dict = {}\n",
    "        while nums != []:\n",
    "            ele = nums.pop()\n",
    "            if ele not in count_dict.keys():\n",
    "                count_dict[ele] = 1\n",
    "            else:\n",
    "                return True\n",
    "        return False\n",
    "        "
   ]
  },
  {
   "cell_type": "code",
   "execution_count": null,
   "id": "999f6257-26d2-4687-91a2-b66db5ac6f2e",
   "metadata": {},
   "outputs": [],
   "source": [
    "class Solution:\n",
    "    def containsDuplicate(self, nums: List[int]) -> bool:\n",
    "        count_dict = {}\n",
    "        for n in nums:\n",
    "            if ele not in count_dict.keys():\n",
    "                count_dict[ele] = 1\n",
    "            else:\n",
    "                return True\n",
    "        return False\n",
    "        "
   ]
  },
  {
   "cell_type": "markdown",
   "id": "d15abfc6-1db2-4d48-8113-7fb72e8cf851",
   "metadata": {},
   "source": [
    "## Neetcode hashset solution"
   ]
  },
  {
   "cell_type": "code",
   "execution_count": 14,
   "id": "ce5c7b59-908e-436a-97a3-f6040213472f",
   "metadata": {},
   "outputs": [],
   "source": [
    "class Solution:\n",
    "    def containsDuplicate(self, nums: List[int]) -> bool:\n",
    "        hashset = set()\n",
    "        \n",
    "        for n in nums:\n",
    "            if n in hashset:\n",
    "                return True\n",
    "            hashset.add(n)\n",
    "        return False\n",
    "        "
   ]
  },
  {
   "attachments": {
    "0ad228e4-c484-4995-ad1d-61ccb5494fda.png": {
     "image/png": "[encoded data removed]"
    }
   },
   "cell_type": "markdown",
   "id": "8f3f91aa-8cb8-4354-915d-9d5c8248f216",
   "metadata": {},
   "source": [
    "## Review\n",
    "![image.png](attachment:0ad228e4-c484-4995-ad1d-61ccb5494fda.png)\n",
    "\n",
    "So what exactly are sets and dictionaries in python? Sets are hashsets, but why is there such a huge difference between my third solution and his?\n",
    "I do an additional pop +tO(1), +mO(1) and an additional check.\n",
    "\n",
    "Sets are implemented using a hashtable as its underlying data strucuture, therefore O(1) membership checking.\n",
    "But why is the dict checking slower than set?\n",
    "Underlying, it needs to look up the value of the key-value pair as well."
   ]
  },
  {
   "cell_type": "markdown",
   "id": "0d548dc3-330f-4f2c-8282-025d85b7a508",
   "metadata": {},
   "source": [
    "# Two Pointers"
   ]
  },
  {
   "cell_type": "markdown",
   "id": "5bc4aaa9-a92f-4692-91f7-c6e85fbb660e",
   "metadata": {},
   "source": [
    "## Valid Palindrome\n",
    "\n",
    "A phrase is a palindrome if, after converting all uppercase letters into lowercase letters and removing all non-alphanumeric characters, it reads the same forward and backward. Alphanumeric characters include letters and numbers."
   ]
  },
  {
   "cell_type": "markdown",
   "id": "f3f492f9-713a-4be7-85bd-4f1d49bb9c4b",
   "metadata": {},
   "source": [
    "Approach 1:\n",
    "\n",
    "Edge cases:\n",
    "1. Single character\n",
    "2. Double character\n",
    "\n",
    "1. "
   ]
  },
  {
   "cell_type": "code",
   "execution_count": 33,
   "id": "ff0ef3a3-aef7-4e73-a900-44775d9dc5e6",
   "metadata": {},
   "outputs": [],
   "source": [
    "def isPalindrome(s: str) -> bool:\n",
    "    s = s.lower()\n",
    "    if len(s) == 1 or len(s) == 0:\n",
    "        print(s)\n",
    "        return True\n",
    "    # elif len(s) == 2:\n",
    "    #     print(s)\n",
    "    #     return s[0] == s[-1]\n",
    "    else:\n",
    "        if s[0].isalnum():\n",
    "            if s[-1].isalnum():\n",
    "                if s[0] == s[-1]:\n",
    "                    return isPalindrome(s[1: -1])\n",
    "                else:\n",
    "                    print(s)\n",
    "                    return False\n",
    "            else:\n",
    "                return isPalindrome(s[0: -1])\n",
    "        else:\n",
    "            return isPalindrome(s[1:])\n"
   ]
  },
  {
   "cell_type": "code",
   "execution_count": 46,
   "id": "5022d9ff-c4fe-43fc-b658-0e9a4db943fa",
   "metadata": {},
   "outputs": [],
   "source": [
    "def isPalindrome(s: str) -> bool:\n",
    "    s = s.lower()\n",
    "    f_ptr, b_ptr = 0 , (len(s) - 1)\n",
    "    \n",
    "    if len(s) == 0 or len(s) == 1:\n",
    "        return True\n",
    "    \n",
    "    elif len(s) == 2:\n",
    "        return s[0] == s[1]\n",
    "    else:\n",
    "        while f_ptr != b_ptr:\n",
    "            if s[f_ptr].isalnum():\n",
    "                if s[b_ptr].isalnum():\n",
    "                    if s[f_ptr] == s[b_ptr]:\n",
    "                        f_ptr += 1\n",
    "                        b_ptr -= 1\n",
    "                    else:\n",
    "                        return False\n",
    "                else:\n",
    "                    b_ptr -= 1\n",
    "            else:\n",
    "                f_ptr += 1\n",
    "        return True"
   ]
  },
  {
   "cell_type": "code",
   "execution_count": 57,
   "id": "8b4969e2-0370-475b-8552-95582ff07979",
   "metadata": {},
   "outputs": [],
   "source": [
    "class Solution:\n",
    "    def isPalindrome(self, s: str) -> bool:\n",
    "        new_string = \"\"\n",
    "        for c in s:\n",
    "            if c.isalnum():\n",
    "                new_string += c\n",
    "        new_string = new_string.lower()\n",
    "        len_seq = len(new_string)\n",
    "        for i in range(len(new_string)//2):\n",
    "            if new_string[i] != new_string[len_seq-1-i]:\n",
    "                return False\n",
    "        return True"
   ]
  },
  {
   "cell_type": "markdown",
   "id": "4391f12d-0320-40c2-bbf5-9d97ae64c04e",
   "metadata": {},
   "source": [
    "## Review\n",
    "\n",
    "Out of bounds issue for the test case which is why I wrote elif len(s) == 2\n",
    "Out  of bounds issue for f_ptr and b_ptr, in the case of 'abba' where it's even, f_ptr goes to 3 and b_ptr goes to 1, I was checking for f_ptr != b_ptr\n",
    "\n",
    "If I handled the alnum before hand, I woldn't have to handle so many edge cases."
   ]
  },
  {
   "cell_type": "markdown",
   "id": "d8500ebc-cbf0-44f8-9897-8d3bdc624813",
   "metadata": {},
   "source": [
    "h"
   ]
  },
  {
   "cell_type": "code",
   "execution_count": null,
   "id": "70c0bd92-9482-46f1-b96a-9ab7ae6389d6",
   "metadata": {},
   "outputs": [],
   "source": []
  }
 ],
 "metadata": {
  "kernelspec": {
   "display_name": "Python 3 (ipykernel)",
   "language": "python",
   "name": "python3"
  },
  "language_info": {
   "codemirror_mode": {
    "name": "ipython",
    "version": 3
   },
   "file_extension": ".py",
   "mimetype": "text/x-python",
   "name": "python",
   "nbconvert_exporter": "python",
   "pygments_lexer": "ipython3",
   "version": "3.10.6"
  }
 },
 "nbformat": 4,
 "nbformat_minor": 5
}
